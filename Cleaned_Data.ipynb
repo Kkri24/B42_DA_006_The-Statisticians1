{
 "cells": [
  {
   "cell_type": "markdown",
   "id": "4eabdd15-181a-44b6-bc13-5748139e70e6",
   "metadata": {},
   "source": [
    "### The dataset we use here is \"food_order\" across our analysis process"
   ]
  },
  {
   "cell_type": "code",
   "execution_count": 2,
   "id": "9031e220-7e15-4de1-bd64-05aaf924dd5e",
   "metadata": {},
   "outputs": [
    {
     "data": {
      "text/html": [
       "<div>\n",
       "<style scoped>\n",
       "    .dataframe tbody tr th:only-of-type {\n",
       "        vertical-align: middle;\n",
       "    }\n",
       "\n",
       "    .dataframe tbody tr th {\n",
       "        vertical-align: top;\n",
       "    }\n",
       "\n",
       "    .dataframe thead th {\n",
       "        text-align: right;\n",
       "    }\n",
       "</style>\n",
       "<table border=\"1\" class=\"dataframe\">\n",
       "  <thead>\n",
       "    <tr style=\"text-align: right;\">\n",
       "      <th></th>\n",
       "      <th>order_id</th>\n",
       "      <th>customer_id</th>\n",
       "      <th>restaurant_name</th>\n",
       "      <th>cuisine_type</th>\n",
       "      <th>cost_of_the_order</th>\n",
       "      <th>day_of_the_week</th>\n",
       "      <th>rating</th>\n",
       "      <th>food_preparation_time</th>\n",
       "      <th>delivery_time</th>\n",
       "    </tr>\n",
       "  </thead>\n",
       "  <tbody>\n",
       "    <tr>\n",
       "      <th>0</th>\n",
       "      <td>1477147</td>\n",
       "      <td>337525</td>\n",
       "      <td>Hangawi</td>\n",
       "      <td>Korean</td>\n",
       "      <td>30.75</td>\n",
       "      <td>Weekend</td>\n",
       "      <td>Not given</td>\n",
       "      <td>25</td>\n",
       "      <td>20</td>\n",
       "    </tr>\n",
       "    <tr>\n",
       "      <th>1</th>\n",
       "      <td>1477685</td>\n",
       "      <td>358141</td>\n",
       "      <td>Blue Ribbon Sushi Izakaya</td>\n",
       "      <td>Japanese</td>\n",
       "      <td>12.08</td>\n",
       "      <td>Weekend</td>\n",
       "      <td>Not given</td>\n",
       "      <td>25</td>\n",
       "      <td>23</td>\n",
       "    </tr>\n",
       "    <tr>\n",
       "      <th>2</th>\n",
       "      <td>1477070</td>\n",
       "      <td>66393</td>\n",
       "      <td>Cafe Habana</td>\n",
       "      <td>Mexican</td>\n",
       "      <td>12.23</td>\n",
       "      <td>Weekday</td>\n",
       "      <td>5</td>\n",
       "      <td>23</td>\n",
       "      <td>28</td>\n",
       "    </tr>\n",
       "    <tr>\n",
       "      <th>3</th>\n",
       "      <td>1477334</td>\n",
       "      <td>106968</td>\n",
       "      <td>Blue Ribbon Fried Chicken</td>\n",
       "      <td>American</td>\n",
       "      <td>29.20</td>\n",
       "      <td>Weekend</td>\n",
       "      <td>3</td>\n",
       "      <td>25</td>\n",
       "      <td>15</td>\n",
       "    </tr>\n",
       "    <tr>\n",
       "      <th>4</th>\n",
       "      <td>1478249</td>\n",
       "      <td>76942</td>\n",
       "      <td>Dirty Bird to Go</td>\n",
       "      <td>American</td>\n",
       "      <td>11.59</td>\n",
       "      <td>Weekday</td>\n",
       "      <td>4</td>\n",
       "      <td>25</td>\n",
       "      <td>24</td>\n",
       "    </tr>\n",
       "  </tbody>\n",
       "</table>\n",
       "</div>"
      ],
      "text/plain": [
       "   order_id  customer_id            restaurant_name cuisine_type  \\\n",
       "0   1477147       337525                    Hangawi       Korean   \n",
       "1   1477685       358141  Blue Ribbon Sushi Izakaya     Japanese   \n",
       "2   1477070        66393                Cafe Habana      Mexican   \n",
       "3   1477334       106968  Blue Ribbon Fried Chicken     American   \n",
       "4   1478249        76942           Dirty Bird to Go     American   \n",
       "\n",
       "   cost_of_the_order day_of_the_week     rating  food_preparation_time  \\\n",
       "0              30.75         Weekend  Not given                     25   \n",
       "1              12.08         Weekend  Not given                     25   \n",
       "2              12.23         Weekday          5                     23   \n",
       "3              29.20         Weekend          3                     25   \n",
       "4              11.59         Weekday          4                     25   \n",
       "\n",
       "   delivery_time  \n",
       "0             20  \n",
       "1             23  \n",
       "2             28  \n",
       "3             15  \n",
       "4             24  "
      ]
     },
     "execution_count": 2,
     "metadata": {},
     "output_type": "execute_result"
    }
   ],
   "source": [
    "#Importing libraries used for Data Cleaning. \n",
    "\n",
    "import pandas as pd\n",
    "import numpy as np\n",
    "\n",
    "# Load the dataset\n",
    "df= pd.read_csv(\"food_order.csv\")\n",
    "df.head()"
   ]
  },
  {
   "cell_type": "code",
   "execution_count": 3,
   "id": "a2240d7e-3149-44fe-94f2-399ab754d3d2",
   "metadata": {},
   "outputs": [
    {
     "data": {
      "text/plain": [
       "Index(['order_id', 'customer_id', 'restaurant_name', 'cuisine_type',\n",
       "       'cost_of_the_order', 'day_of_the_week', 'rating',\n",
       "       'food_preparation_time', 'delivery_time'],\n",
       "      dtype='object')"
      ]
     },
     "execution_count": 3,
     "metadata": {},
     "output_type": "execute_result"
    }
   ],
   "source": [
    "# columns\n",
    "df.columns"
   ]
  },
  {
   "cell_type": "code",
   "execution_count": 4,
   "id": "ce87c9c5-a99b-4497-8142-379e6c521bdb",
   "metadata": {},
   "outputs": [],
   "source": [
    "# Drop the 'order_id' column from the DataFrame\n",
    "df = df.drop(columns=['order_id'])"
   ]
  },
  {
   "cell_type": "markdown",
   "id": "9e183d85-1546-4d0f-a712-09eadb816883",
   "metadata": {},
   "source": [
    "#### Modifying rating column "
   ]
  },
  {
   "cell_type": "code",
   "execution_count": 6,
   "id": "ba7ae542-12e2-426f-abed-3d60f4781528",
   "metadata": {},
   "outputs": [
    {
     "name": "stdout",
     "output_type": "stream",
     "text": [
      "Missing ratings after conversion: 736\n",
      "Missing ratings after filling: 30\n",
      "Missing ratings after filling with global mean and rounding: 0\n"
     ]
    }
   ],
   "source": [
    "# Convert 'rating' column to numeric, forcing errors to NaN (invalid entries will be converted to NaN)\n",
    "df['rating'] = pd.to_numeric(df['rating'], errors='coerce')\n",
    "\n",
    "# Check if there are still NaN values after the conversion\n",
    "missing_ratings = df['rating'].isna().sum()\n",
    "print(f\"Missing ratings after conversion: {missing_ratings}\")\n",
    "\n",
    "# Fill missing ratings with the median rating of the corresponding restaurant\n",
    "df['rating'] = df.groupby('restaurant_name')['rating'].transform(lambda x: x.fillna(x.median()))\n",
    "\n",
    "# Check if there are still any missing ratings after filling\n",
    "missing_ratings_after = df['rating'].isna().sum()\n",
    "print(f\"Missing ratings after filling: {missing_ratings_after}\")\n",
    "\n",
    "# Calculate the global median of ratings\n",
    "global_mean = df['rating'].median()\n",
    "\n",
    "# Fill any remaining NaN values with the global median\n",
    "df['rating'] = df['rating'].fillna(global_mean)\n",
    "\n",
    "# Round the ratings to the 1 decimal place\n",
    "df['rating'] = df['rating'].round(1).astype(float)\n",
    "\n",
    "# Check if any NaN values remain\n",
    "missing_ratings_after_filling = df['rating'].isna().sum()\n",
    "print(f\"Missing ratings after filling with global mean and rounding: {missing_ratings_after_filling}\")\n",
    "\n"
   ]
  },
  {
   "cell_type": "markdown",
   "id": "2c36475a-186e-425f-a8d4-39d05ff93640",
   "metadata": {},
   "source": [
    "#### Removing Duplicates"
   ]
  },
  {
   "cell_type": "code",
   "execution_count": 8,
   "id": "72cac64d-d19c-4635-86f6-6361be80b753",
   "metadata": {},
   "outputs": [],
   "source": [
    "#Dropping if any duplicates in the data \n",
    "df.drop_duplicates(inplace=True)"
   ]
  },
  {
   "cell_type": "markdown",
   "id": "69c41e51-1360-44f4-984b-0f9c42daccc8",
   "metadata": {},
   "source": [
    "#### Checking if the data is Suitable for analysis "
   ]
  },
  {
   "cell_type": "code",
   "execution_count": 10,
   "id": "a9197e53-6bb1-43be-a468-3f81705c4cd1",
   "metadata": {},
   "outputs": [
    {
     "name": "stdout",
     "output_type": "stream",
     "text": [
      "<class 'pandas.core.frame.DataFrame'>\n",
      "RangeIndex: 1898 entries, 0 to 1897\n",
      "Data columns (total 8 columns):\n",
      " #   Column                 Non-Null Count  Dtype  \n",
      "---  ------                 --------------  -----  \n",
      " 0   customer_id            1898 non-null   int64  \n",
      " 1   restaurant_name        1898 non-null   object \n",
      " 2   cuisine_type           1898 non-null   object \n",
      " 3   cost_of_the_order      1898 non-null   float64\n",
      " 4   day_of_the_week        1898 non-null   object \n",
      " 5   rating                 1898 non-null   float64\n",
      " 6   food_preparation_time  1898 non-null   int64  \n",
      " 7   delivery_time          1898 non-null   int64  \n",
      "dtypes: float64(2), int64(3), object(3)\n",
      "memory usage: 118.8+ KB\n",
      "None\n",
      "customer_id              0\n",
      "restaurant_name          0\n",
      "cuisine_type             0\n",
      "cost_of_the_order        0\n",
      "day_of_the_week          0\n",
      "rating                   0\n",
      "food_preparation_time    0\n",
      "delivery_time            0\n",
      "dtype: int64\n",
      "0\n"
     ]
    }
   ],
   "source": [
    "print(df.info())\n",
    "print(df.isnull().sum())\n",
    "print(df.duplicated().sum())"
   ]
  },
  {
   "cell_type": "code",
   "execution_count": 11,
   "id": "2183d1c4-3f36-468c-a20b-96344443bb12",
   "metadata": {},
   "outputs": [],
   "source": [
    "#Renaming cleaned data\n",
    "Cleaned_Food_Order=df"
   ]
  },
  {
   "cell_type": "markdown",
   "id": "5267fce0-a2df-4734-a567-b7f78f88aa4f",
   "metadata": {},
   "source": [
    "### Adding Column \"total_time\" in the dataset"
   ]
  },
  {
   "cell_type": "code",
   "execution_count": 13,
   "id": "baf662c2-ed0a-41c2-a97d-98b1f540b53f",
   "metadata": {},
   "outputs": [],
   "source": [
    "Cleaned_Food_Order[\"total_time\"]=Cleaned_Food_Order[\"food_preparation_time\"]+Cleaned_Food_Order[\"delivery_time\"]"
   ]
  },
  {
   "cell_type": "markdown",
   "id": "f24cb54d-6ca3-40b4-a202-4fd9520e2a33",
   "metadata": {},
   "source": [
    "### Replacing column names"
   ]
  },
  {
   "cell_type": "code",
   "execution_count": 15,
   "id": "3f46fcd7-a537-437f-b11d-ff62ce57eb63",
   "metadata": {},
   "outputs": [],
   "source": [
    "Cleaned_Food_Order.columns=[\"Customer ID\", \"Restaurant Name\",\"Cuisine Type\",\"Cost of the order\",\"Day of the week\",\"Rating\",\"Food preparing time\",\"Delivery time\",\"Total time\"]"
   ]
  },
  {
   "cell_type": "code",
   "execution_count": 16,
   "id": "2776a58c-75d5-4100-aa4f-60d938eabbcd",
   "metadata": {},
   "outputs": [
    {
     "data": {
      "text/html": [
       "<div>\n",
       "<style scoped>\n",
       "    .dataframe tbody tr th:only-of-type {\n",
       "        vertical-align: middle;\n",
       "    }\n",
       "\n",
       "    .dataframe tbody tr th {\n",
       "        vertical-align: top;\n",
       "    }\n",
       "\n",
       "    .dataframe thead th {\n",
       "        text-align: right;\n",
       "    }\n",
       "</style>\n",
       "<table border=\"1\" class=\"dataframe\">\n",
       "  <thead>\n",
       "    <tr style=\"text-align: right;\">\n",
       "      <th></th>\n",
       "      <th>Customer ID</th>\n",
       "      <th>Restaurant Name</th>\n",
       "      <th>Cuisine Type</th>\n",
       "      <th>Cost of the order</th>\n",
       "      <th>Day of the week</th>\n",
       "      <th>Rating</th>\n",
       "      <th>Food preparing time</th>\n",
       "      <th>Delivery time</th>\n",
       "      <th>Total time</th>\n",
       "    </tr>\n",
       "  </thead>\n",
       "  <tbody>\n",
       "    <tr>\n",
       "      <th>0</th>\n",
       "      <td>337525</td>\n",
       "      <td>Hangawi</td>\n",
       "      <td>Korean</td>\n",
       "      <td>30.75</td>\n",
       "      <td>Weekend</td>\n",
       "      <td>4.0</td>\n",
       "      <td>25</td>\n",
       "      <td>20</td>\n",
       "      <td>45</td>\n",
       "    </tr>\n",
       "    <tr>\n",
       "      <th>1</th>\n",
       "      <td>358141</td>\n",
       "      <td>Blue Ribbon Sushi Izakaya</td>\n",
       "      <td>Japanese</td>\n",
       "      <td>12.08</td>\n",
       "      <td>Weekend</td>\n",
       "      <td>5.0</td>\n",
       "      <td>25</td>\n",
       "      <td>23</td>\n",
       "      <td>48</td>\n",
       "    </tr>\n",
       "    <tr>\n",
       "      <th>2</th>\n",
       "      <td>66393</td>\n",
       "      <td>Cafe Habana</td>\n",
       "      <td>Mexican</td>\n",
       "      <td>12.23</td>\n",
       "      <td>Weekday</td>\n",
       "      <td>5.0</td>\n",
       "      <td>23</td>\n",
       "      <td>28</td>\n",
       "      <td>51</td>\n",
       "    </tr>\n",
       "    <tr>\n",
       "      <th>3</th>\n",
       "      <td>106968</td>\n",
       "      <td>Blue Ribbon Fried Chicken</td>\n",
       "      <td>American</td>\n",
       "      <td>29.20</td>\n",
       "      <td>Weekend</td>\n",
       "      <td>3.0</td>\n",
       "      <td>25</td>\n",
       "      <td>15</td>\n",
       "      <td>40</td>\n",
       "    </tr>\n",
       "    <tr>\n",
       "      <th>4</th>\n",
       "      <td>76942</td>\n",
       "      <td>Dirty Bird to Go</td>\n",
       "      <td>American</td>\n",
       "      <td>11.59</td>\n",
       "      <td>Weekday</td>\n",
       "      <td>4.0</td>\n",
       "      <td>25</td>\n",
       "      <td>24</td>\n",
       "      <td>49</td>\n",
       "    </tr>\n",
       "  </tbody>\n",
       "</table>\n",
       "</div>"
      ],
      "text/plain": [
       "   Customer ID            Restaurant Name Cuisine Type  Cost of the order  \\\n",
       "0       337525                    Hangawi       Korean              30.75   \n",
       "1       358141  Blue Ribbon Sushi Izakaya     Japanese              12.08   \n",
       "2        66393                Cafe Habana      Mexican              12.23   \n",
       "3       106968  Blue Ribbon Fried Chicken     American              29.20   \n",
       "4        76942           Dirty Bird to Go     American              11.59   \n",
       "\n",
       "  Day of the week  Rating  Food preparing time  Delivery time  Total time  \n",
       "0         Weekend     4.0                   25             20          45  \n",
       "1         Weekend     5.0                   25             23          48  \n",
       "2         Weekday     5.0                   23             28          51  \n",
       "3         Weekend     3.0                   25             15          40  \n",
       "4         Weekday     4.0                   25             24          49  "
      ]
     },
     "execution_count": 16,
     "metadata": {},
     "output_type": "execute_result"
    }
   ],
   "source": [
    "Cleaned_Food_Order.head()"
   ]
  },
  {
   "cell_type": "markdown",
   "id": "a97ccb3e-3b06-4878-8851-7befee1349a9",
   "metadata": {},
   "source": [
    "### Cleaned Data Set"
   ]
  },
  {
   "cell_type": "code",
   "execution_count": 18,
   "id": "a279bfd7-08de-4a5a-8c17-1423af2dc5e7",
   "metadata": {},
   "outputs": [],
   "source": [
    "Cleaned_Food_Order.to_csv(\"Cleaned_Food_Order2.csv\", index=False)"
   ]
  },
  {
   "cell_type": "code",
   "execution_count": 19,
   "id": "d202340b-0d46-4eb8-8ff6-f997b95bc31c",
   "metadata": {},
   "outputs": [
    {
     "data": {
      "text/plain": [
       "array(['Hangawi', 'Blue Ribbon Sushi Izakaya', 'Cafe Habana',\n",
       "       'Blue Ribbon Fried Chicken', 'Dirty Bird to Go',\n",
       "       'Tamarind TriBeCa', 'The Meatball Shop', 'Barbounia',\n",
       "       'Anjappar Chettinad', 'Bukhara Grill',\n",
       "       'Big Wong Restaurant \\x8c_¤¾Ñ¼', 'Empanada Mama (closed)', 'Pylos',\n",
       "       \"Lucky's Famous Burgers\", 'Shake Shack', 'Sushi of Gari',\n",
       "       'RedFarm Hudson', 'Blue Ribbon Sushi',\n",
       "       'Five Guys Burgers and Fries', 'Tortaria', 'Cafe Mogador',\n",
       "       'Otto Enoteca Pizzeria', 'Vezzo Thin Crust Pizza',\n",
       "       'Sushi of Gari 46', 'The Kati Roll Company', 'Klong',\n",
       "       '5 Napkin Burger', 'TAO', 'Parm', 'Sushi Samba',\n",
       "       'Haru Gramercy Park', 'Chipotle Mexican Grill $1.99 Delivery',\n",
       "       'RedFarm Broadway', 'Cafeteria', 'DuMont Burger',\n",
       "       \"Sarabeth's East\", 'Hill Country Fried Chicken', 'Bistango',\n",
       "       \"Jack's Wife Freda\", \"Mamoun's Falafel\", 'Prosperity Dumpling',\n",
       "       'Blue Ribbon Sushi Bar & Grill', 'Westville Hudson',\n",
       "       'Blue Ribbon Brooklyn', 'Nobu Next Door', 'Osteria Morini',\n",
       "       'Haandi', 'Benihana', 'Han Dynasty', 'Chote Nawab',\n",
       "       'Mission Cantina', \"Xi'an Famous Foods\", 'Rubirosa',\n",
       "       \"Joe's Shanghai \\x8e_À\\x8eü£¾÷´\", 'Bareburger', 'The Odeon',\n",
       "       'Pongsri Thai', 'Yama Japanese Restaurant', 'Momoya',\n",
       "       'Balthazar Boulangerie', 'CafÌ© China', 'Boqueria',\n",
       "       'Song Thai Restaurant & Bar', 'Five Leaves',\n",
       "       'Pinto Nouveau Thai Bistro', \"Amy Ruth's\", 'Pepe Giallo',\n",
       "       'indikitch', 'Yama 49', 'Piccolo Angolo', 'Pepe Rosso To Go',\n",
       "       \"L'Express\", 'Amma', 'Delicatessen', \"S'MAC\",\n",
       "       \"Vanessa's Dumplings\", 'Bhatti Indian Grill', 'Taro Sushi',\n",
       "       'Donburi-ya', 'Hatsuhana', 'Samurai Mama', 'Waverly Diner',\n",
       "       'Tarallucci e Vino Restaurant', \"P.J. Clarke's\",\n",
       "       'Lantern Thai Kitchen', 'ilili Restaurant', 'The Smile',\n",
       "       \"Vanessa's Dumpling House\", \"Bubby's \", 'Woorijip',\n",
       "       'Dirty Bird To Go (archived)', 'Haveli Indian Restaurant',\n",
       "       'Dos Caminos', 'da Umberto', 'Sushi of Gari Tribeca',\n",
       "       'Burger Joint', 'Room Service', \"Sarabeth's Restaurant\",\n",
       "       'Xe May Sandwich Shop', 'Hibino', 'Mira Sushi', 'Melt Shop',\n",
       "       'J. G. Melon', 'Hummus Place', 'Saravanaa Bhavan',\n",
       "       'Friend of a Farmer', 'The Loop', 'Balade', 'Posto',\n",
       "       'Terakawa Ramen', 'Kambi Ramen House', 'Wo Hop Restaurant',\n",
       "       'Spice Thai', \"Dickson's Farmstand Meats\",\n",
       "       'UVA Wine Bar & Restaurant', 'Serafina Fabulous Pizza',\n",
       "       'Gaia Italian Cafe', 'Chola Eclectic Indian Cuisine',\n",
       "       'Hot Kitchen', 'Junoon', 'Ravagh Persian Grill', 'Rohm Thai',\n",
       "       'Dig Inn Seasonal Market', 'Olea', 'Cho Dang Gol',\n",
       "       'El Parador Cafe', 'Socarrat Paella Bar',\n",
       "       \"Don's Bogam BBQ & Wine Bar\", 'Alidoro', \"Tony's Di Napoli\",\n",
       "       'Cipriani Le Specialita', 'Sushi Choshi', 'Kanoyama', 'V-Nam Cafe',\n",
       "       'Zero Otto Nove', 'Dos Caminos Soho', 'Go! Go! Curry!',\n",
       "       'La Follia', 'Izakaya Ten', '12 Chairs', 'Philippe Chow',\n",
       "       'The MasalaWala', 'brgr', \"Carmine's\", 'Asuka Sushi', 'Aurora',\n",
       "       \"Sarabeth's\", 'Crema Restaurante', \"Big Daddy's\",\n",
       "       'Moonstruck on Second', 'Cafe de La Esquina', 'Olive Garden',\n",
       "       '67 Burger', 'Tres Carnes', \"Schnipper's Quality Kitchen\",\n",
       "       'Nha Trang One', 'Market Table', 'Galli Restaurant',\n",
       "       'Hampton Chutney Co.', 'Byblos Restaurant',\n",
       "       'Grand Sichuan International', 'Le Grainne Cafe', 'Il Bambino',\n",
       "       'Kori Restaurant and Bar', 'DespaÌ±a', 'Lamarca Pasta',\n",
       "       'Lucky Strike', \"Paul & Jimmy's\", 'Hunan Manor', \"Coppola's East\",\n",
       "       'Emporio', 'Wa Jeal', 'Le Zie 2000 Trattoria', 'Rye House',\n",
       "       \"Hiroko's Place\", 'Frank Restaurant', \"Sarabeth's West\",\n",
       "       \"'wichcraft\"], dtype=object)"
      ]
     },
     "execution_count": 19,
     "metadata": {},
     "output_type": "execute_result"
    }
   ],
   "source": [
    "Cleaned_Food_Order['Restaurant Name'].unique()"
   ]
  },
  {
   "cell_type": "code",
   "execution_count": 20,
   "id": "fdb00b7f-bad9-4d9a-8bf9-d9392e441bf7",
   "metadata": {},
   "outputs": [
    {
     "data": {
      "text/plain": [
       "178"
      ]
     },
     "execution_count": 20,
     "metadata": {},
     "output_type": "execute_result"
    }
   ],
   "source": [
    "Cleaned_Food_Order['Restaurant Name'].nunique()"
   ]
  },
  {
   "cell_type": "code",
   "execution_count": 35,
   "id": "371b7731-ddcc-4b10-81cd-aca4eeeb7d0e",
   "metadata": {},
   "outputs": [
    {
     "name": "stdout",
     "output_type": "stream",
     "text": [
      "      Restaurant Name    Cuisine Type\n",
      "0          'wichcraft        American\n",
      "1           12 Chairs  Middle Eastern\n",
      "2     5 Napkin Burger        American\n",
      "3           67 Burger        American\n",
      "4             Alidoro        American\n",
      "..                ...             ...\n",
      "173    Zero Otto Nove         Italian\n",
      "174              brgr        American\n",
      "175        da Umberto         Italian\n",
      "176  ilili Restaurant  Middle Eastern\n",
      "177         indikitch          Indian\n",
      "\n",
      "[178 rows x 2 columns]\n"
     ]
    }
   ],
   "source": [
    "restaurant_cuisines = df.groupby(\"Restaurant Name\")[\"Cuisine Type\"].apply(lambda x: \", \".join(x.unique())).reset_index()\n",
    "print(restaurant_cuisines)\n"
   ]
  },
  {
   "cell_type": "code",
   "execution_count": 43,
   "id": "83797576-2129-4433-9b03-da69418bb1d3",
   "metadata": {},
   "outputs": [],
   "source": [
    "restaurant_cuisines.to_csv(\"restaurant_cuisines.csv\", index=False)"
   ]
  },
  {
   "cell_type": "code",
   "execution_count": 41,
   "id": "016a2405-2e7a-4b5b-a92a-f3ce9810cc85",
   "metadata": {},
   "outputs": [
    {
     "name": "stdout",
     "output_type": "stream",
     "text": [
      "                 Restaurant Name  Cuisine Count\n",
      "153            The Meatball Shop              2\n",
      "0                     'wichcraft              1\n",
      "112             Pepe Rosso To Go              1\n",
      "114               Piccolo Angolo              1\n",
      "115    Pinto Nouveau Thai Bistro              1\n",
      "..                           ...            ...\n",
      "61              Galli Restaurant              1\n",
      "62                Go! Go! Curry!              1\n",
      "63   Grand Sichuan International              1\n",
      "64                        Haandi              1\n",
      "177                    indikitch              1\n",
      "\n",
      "[178 rows x 2 columns]\n"
     ]
    }
   ],
   "source": [
    "restaurant_cuisines = df.groupby(\"Restaurant Name\")[\"Cuisine Type\"].nunique().reset_index()\n",
    "restaurant_cuisines.columns = [\"Restaurant Name\", \"Cuisine Count\"]\n",
    "print(restaurant_cuisines.sort_values(by=\"Cuisine Count\", ascending=False))\n"
   ]
  },
  {
   "cell_type": "code",
   "execution_count": null,
   "id": "93987413-274c-4350-b8fc-0ffc83152423",
   "metadata": {},
   "outputs": [],
   "source": []
  }
 ],
 "metadata": {
  "kernelspec": {
   "display_name": "Python 3 (ipykernel)",
   "language": "python",
   "name": "python3"
  },
  "language_info": {
   "codemirror_mode": {
    "name": "ipython",
    "version": 3
   },
   "file_extension": ".py",
   "mimetype": "text/x-python",
   "name": "python",
   "nbconvert_exporter": "python",
   "pygments_lexer": "ipython3",
   "version": "3.12.7"
  }
 },
 "nbformat": 4,
 "nbformat_minor": 5
}
